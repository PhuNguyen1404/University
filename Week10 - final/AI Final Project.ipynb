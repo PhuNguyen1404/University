{
 "cells": [
  {
   "cell_type": "markdown",
   "metadata": {},
   "source": [
    "Import necessary libraries"
   ]
  },
  {
   "cell_type": "code",
   "execution_count": 1,
   "metadata": {},
   "outputs": [],
   "source": [
    "import torch\n",
    "import torch.nn as nn\n",
    "import torch.optim as optim\n",
    "import torchvision\n",
    "import torchvision.transforms as transforms\n",
    "from torch.utils.data import DataLoader, Subset, random_split\n",
    "from torchvision.datasets import CIFAR10\n",
    "import numpy as np\n",
    "import matplotlib.pyplot as plt\n",
    "import time\n",
    "import random\n",
    "from collections import defaultdict"
   ]
  },
  {
   "cell_type": "markdown",
   "metadata": {},
   "source": [
    "Check if GPU is available and set device"
   ]
  },
  {
   "cell_type": "code",
   "execution_count": 2,
   "metadata": {},
   "outputs": [],
   "source": [
    "device = torch.device('cuda' if torch.cuda.is_available() else 'cpu')"
   ]
  },
  {
   "cell_type": "markdown",
   "metadata": {},
   "source": [
    "Define the dataset class with image flipping"
   ]
  },
  {
   "cell_type": "code",
   "execution_count": 3,
   "metadata": {},
   "outputs": [],
   "source": [
    "class FlippedCIFAR10(CIFAR10):\n",
    "    def __init__(self, *args, **kwargs):\n",
    "        # Initialize the superclass\n",
    "        super(FlippedCIFAR10, self).__init__(*args, **kwargs)\n",
    "\n",
    "    def __getitem__(self, idx):\n",
    "        # Get the original image and label\n",
    "        image, label = super(FlippedCIFAR10, self).__getitem__(idx)\n",
    "\n",
    "        # Determine if the image should be flipped\n",
    "        flip = torch.randint(0, 2, (1,), device=device).item()\n",
    "\n",
    "        # Apply a random vertical flip based on the binary label\n",
    "        if flip == 1:\n",
    "            image = transforms.functional.vflip(image)\n",
    "\n",
    "        # Set the flip label\n",
    "        flip_label = torch.tensor(flip, device=device)\n",
    "\n",
    "        # Return the modified image, flip label, and the original label\n",
    "        return image, flip_label, label"
   ]
  },
  {
   "cell_type": "markdown",
   "metadata": {},
   "source": [
    "Load CIFAR-10 dataset, create flipped dataset, and split into train and test sets"
   ]
  },
  {
   "cell_type": "code",
   "execution_count": 4,
   "metadata": {},
   "outputs": [],
   "source": [
    "def prepare_datasets():\n",
    "    # Define the transformation pipeline for image preprocessing\n",
    "    transform = transforms.Compose([\n",
    "        transforms.ToTensor(),  # Convert the image to a PyTorch tensor\n",
    "        transforms.Normalize((0.5, 0.5, 0.5), (0.5, 0.5, 0.5))  # Normalize the image pixel values\n",
    "    ])\n",
    "\n",
    "    # Create a flipped version of the CIFAR-10 dataset\n",
    "    flipped_cifar10 = FlippedCIFAR10(root='./data', train=True, download=True, transform=transform)\n",
    "\n",
    "    # Determine the sizes for the train and test sets\n",
    "    train_size = int(0.8 * len(flipped_cifar10))\n",
    "    test_size = len(flipped_cifar10) - train_size\n",
    "\n",
    "    # Randomly split the flipped dataset into train and test sets\n",
    "    train_dataset, test_dataset = random_split(flipped_cifar10, [train_size, test_size])\n",
    "\n",
    "    # Create DataLoader objects for the train and test sets\n",
    "    train_loader = DataLoader(train_dataset, batch_size=64, shuffle=True)\n",
    "    test_loader = DataLoader(test_dataset, batch_size=64, shuffle=False)\n",
    "    \n",
    "    # Print the sizes of the training and testing sets\n",
    "    print(f\"Training set size: {len(train_loader.dataset)}\")\n",
    "    print(f\"Testing set size: {len(test_loader.dataset)}\")\n",
    "\n",
    "    return train_loader, test_loader"
   ]
  },
  {
   "cell_type": "markdown",
   "metadata": {},
   "source": [
    "CIFAR-10 class names"
   ]
  },
  {
   "cell_type": "code",
   "execution_count": 5,
   "metadata": {},
   "outputs": [],
   "source": [
    "classes = ('plane', 'car', 'bird', 'cat', 'deer', 'dog', 'frog', 'horse', 'ship', 'truck')"
   ]
  },
  {
   "cell_type": "markdown",
   "metadata": {},
   "source": [
    "Define the model architecture ResNet18 and NeuralNet"
   ]
  },
  {
   "cell_type": "code",
   "execution_count": 6,
   "metadata": {},
   "outputs": [],
   "source": [
    "# def create_model():\n",
    "#     # Load a pretrained ResNet-18 model\n",
    "#     model = torchvision.models.resnet18(pretrained=True)\n",
    "#     # Replace the fully connected layer with a new one for binary classification\n",
    "#     num_ftrs = model.fc.in_features\n",
    "#     model.fc = nn.Linear(num_ftrs, 2)  # 2 classes: flipped or unflipped\n",
    "#     return model"
   ]
  },
  {
   "cell_type": "code",
   "execution_count": 7,
   "metadata": {},
   "outputs": [],
   "source": [
    "# Define a function to create a neural network model for binary classification\n",
    "def create_model():\n",
    "    # Define a custom neural network class that inherits from nn.Module\n",
    "    class NeuralNet(nn.Module):\n",
    "        def __init__(self):\n",
    "            super(NeuralNet, self).__init__()  # Call the constructor of the superclass\n",
    "            self.l1 = nn.Linear(3 * 32 * 32, 500)  # Define the first linear layer with input size 3*32*32 and output size 500\n",
    "            self.relu = nn.ReLU()  # Define the ReLU activation function\n",
    "            self.l2 = nn.Linear(500, 2)  # Define the second linear layer with input size 500 and output size 2 for binary classification\n",
    "        \n",
    "        def forward(self, x):\n",
    "            x = x.view(x.size(0), -1)  # Flatten the input tensor to a 1D tensor\n",
    "            out = self.l1(x)  # Pass the input through the first linear layer\n",
    "            out = self.relu(out)  # Apply ReLU activation\n",
    "            out = self.l2(out)  # Pass the output through the second linear layer\n",
    "            return out  # Return the final output\n",
    "    \n",
    "    # Instantiate the NeuralNet class to create the model\n",
    "    model = NeuralNet()\n",
    "    \n",
    "    return model  # Return the created model"
   ]
  },
  {
   "cell_type": "markdown",
   "metadata": {},
   "source": [
    "Train the model"
   ]
  },
  {
   "cell_type": "code",
   "execution_count": 8,
   "metadata": {},
   "outputs": [],
   "source": [
    "def train_model(model, train_loader, criterion, optimizer, scheduler, epochs=2):\n",
    "    start_time = time.time()\n",
    "    \n",
    "    # Set the model to training mode\n",
    "    model.train()\n",
    "\n",
    "    # Loop over the specified number of epochs\n",
    "    for epoch in range(epochs):\n",
    "        # Initialize variables for running loss and correct predictions\n",
    "        running_loss = 0.0\n",
    "        correct = 0\n",
    "        total = 0\n",
    "\n",
    "        # Loop over each batch in the train_loader\n",
    "        for inputs, flip_labels, _ in train_loader:\n",
    "            # Reset the gradient accumulation\n",
    "            optimizer.zero_grad()\n",
    "\n",
    "            # Perform the forward pass\n",
    "            outputs = model(inputs)\n",
    "\n",
    "            # Compute the loss\n",
    "            loss = criterion(outputs, flip_labels.squeeze())\n",
    "\n",
    "            # Perform the backward pass\n",
    "            loss.backward()\n",
    "\n",
    "            # Update the weights\n",
    "            optimizer.step()\n",
    "\n",
    "            # Accumulate the running loss and count correct predictions\n",
    "            running_loss += loss.item()\n",
    "            _, predicted = torch.max(outputs, 1)\n",
    "            total += flip_labels.size(0)\n",
    "            correct += (predicted == flip_labels.squeeze()).sum().item()\n",
    "\n",
    "        # Update the learning rate\n",
    "        scheduler.step()\n",
    "\n",
    "        # Calculate the epoch loss and accuracy\n",
    "        epoch_loss = running_loss / len(train_loader)\n",
    "        epoch_accuracy = 100 * correct / total\n",
    "        \n",
    "\n",
    "        # Print the results\n",
    "        print(f'Epoch {epoch + 1}, Loss: {epoch_loss:.4f}, Accuracy: {epoch_accuracy:.2f}%')\n",
    "\n",
    "    # Print a message when training is finished\n",
    "    elapsed_time = time.time() - start_time\n",
    "    print(f'Training complete in {elapsed_time // 60}m {elapsed_time % 60}s')\n",
    "    print('Finished Training')"
   ]
  },
  {
   "cell_type": "markdown",
   "metadata": {},
   "source": [
    "Evaluate and visualize the model"
   ]
  },
  {
   "cell_type": "code",
   "execution_count": 9,
   "metadata": {},
   "outputs": [],
   "source": [
    "def evaluate_model(model, test_loader, classes):\n",
    "    # Set the model to evaluation mode\n",
    "    model.eval()\n",
    "\n",
    "    # Initialize variables to count the number of correct predictions for each class\n",
    "    class_correct = {i: 0 for i in range(10)}  # Dictionary to store the number of correct predictions for each class\n",
    "    class_total = {i: 0 for i in range(10)}    # Dictionary to store the total number of samples for each class\n",
    "\n",
    "    # Disable gradient computation\n",
    "    with torch.no_grad():\n",
    "        # Loop over the data loader\n",
    "        for images, flip_labels, labels in test_loader:\n",
    "            images, flip_labels, labels = images.to(device), flip_labels.to(device), labels.to(device)\n",
    "            # Perform the forward pass\n",
    "            outputs = model(images)\n",
    "\n",
    "            # Extract the predicted and actual labels\n",
    "            _, predicted = torch.max(outputs, 1)\n",
    "            for i in range(flip_labels.size(0)):\n",
    "                label = labels[i].item()\n",
    "                class_total[label] += 1\n",
    "                if predicted[i] == flip_labels[i]:\n",
    "                    class_correct[label] += 1\n",
    "\n",
    "    # Calculate the accuracy for each class\n",
    "    for i in range(10):\n",
    "        accuracy = 100 * class_correct[i] / class_total[i]\n",
    "        print(f'Accuracy of class {i}: {accuracy:.2f}%')\n",
    "\n",
    "    # Identify the 3 classes with the lowest accuracy\n",
    "    lowest_accuracy_classes = sorted(class_correct, key=lambda x: class_correct[x] / class_total[x])[:3]\n",
    "\n",
    "    print(\"Top 3 classes with lowest accuracy:\")\n",
    "    for cls in lowest_accuracy_classes:\n",
    "        accuracy = 100 * class_correct[cls] / class_total[cls]\n",
    "        print(f\"Class {cls}: {accuracy:.2f}%\")\n",
    "\n",
    "    # Collect incorrect samples for visualization\n",
    "    incorrect_samples = []\n",
    "    for images, flip_labels, labels in test_loader:\n",
    "        images, flip_labels, labels = images.to(device), flip_labels.to(device), labels.to(device)\n",
    "        outputs = model(images)\n",
    "        _, predicted = torch.max(outputs, 1)\n",
    "        for i in range(flip_labels.size(0)):\n",
    "            if predicted[i] != flip_labels[i]:\n",
    "                incorrect_samples.append((images[i], predicted[i], flip_labels[i], labels[i]))\n",
    "\n",
    "    # Visualize the incorrect samples for the 3 classes with lowest accuracy\n",
    "    count = 0\n",
    "    for i, (image, pred, actual, label) in enumerate(incorrect_samples, 1):\n",
    "        if label.item() in lowest_accuracy_classes and count < 10:\n",
    "            class_name = classes[label.item()]\n",
    "            print(f'Incorrect Sample {i}: Predicted: {\"1\" if pred.item() == 1 else \"0\"}, Actual: {\"1\" if actual.item() == 1 else \"0\"}, Class: {class_name}')\n",
    "            plt.imshow(transforms.ToPILImage()(image.cpu()))\n",
    "            plt.axis('off')\n",
    "            plt.show()\n",
    "            count += 1"
   ]
  },
  {
   "cell_type": "markdown",
   "metadata": {},
   "source": [
    "Main function to run the entire process"
   ]
  },
  {
   "cell_type": "code",
   "execution_count": 10,
   "metadata": {},
   "outputs": [
    {
     "name": "stdout",
     "output_type": "stream",
     "text": [
      "Files already downloaded and verified\n",
      "Training set size: 40000\n",
      "Testing set size: 10000\n",
      "Epoch 1, Loss: 0.5665, Accuracy: 70.11%\n",
      "Epoch 2, Loss: 0.5436, Accuracy: 72.06%\n",
      "Epoch 3, Loss: 0.5342, Accuracy: 72.79%\n",
      "Epoch 4, Loss: 0.5211, Accuracy: 73.67%\n",
      "Epoch 5, Loss: 0.5161, Accuracy: 74.13%\n",
      "Epoch 6, Loss: 0.4728, Accuracy: 76.93%\n",
      "Epoch 7, Loss: 0.4617, Accuracy: 77.67%\n",
      "Epoch 8, Loss: 0.4548, Accuracy: 78.00%\n",
      "Epoch 9, Loss: 0.4497, Accuracy: 78.28%\n",
      "Epoch 10, Loss: 0.4440, Accuracy: 78.64%\n",
      "Training complete in 2.0m 45.068302392959595s\n",
      "Finished Training\n",
      "Accuracy of class 0: 76.93%\n",
      "Accuracy of class 1: 83.68%\n",
      "Accuracy of class 2: 69.57%\n",
      "Accuracy of class 3: 57.10%\n",
      "Accuracy of class 4: 75.25%\n",
      "Accuracy of class 5: 61.89%\n",
      "Accuracy of class 6: 69.04%\n",
      "Accuracy of class 7: 85.01%\n",
      "Accuracy of class 8: 87.91%\n",
      "Accuracy of class 9: 89.53%\n",
      "Top 3 classes with lowest accuracy:\n",
      "Class 3: 57.10%\n",
      "Class 5: 61.89%\n",
      "Class 6: 69.04%\n",
      "Incorrect Sample 1: Predicted: 1, Actual: 0, Class: cat\n"
     ]
    },
    {
     "data": {
      "image/png": "[encoded data removed]",
      "text/plain": [
       "<Figure size 640x480 with 1 Axes>"
      ]
     },
     "metadata": {},
     "output_type": "display_data"
    },
    {
     "name": "stdout",
     "output_type": "stream",
     "text": [
      "Incorrect Sample 3: Predicted: 0, Actual: 1, Class: cat\n"
     ]
    },
    {
     "data": {
      "image/png": "[encoded data removed]",
      "text/plain": [
       "<Figure size 640x480 with 1 Axes>"
      ]
     },
     "metadata": {},
     "output_type": "display_data"
    },
    {
     "name": "stdout",
     "output_type": "stream",
     "text": [
      "Incorrect Sample 4: Predicted: 0, Actual: 1, Class: cat\n"
     ]
    },
    {
     "data": {
      "image/png": "[encoded data removed]",
      "text/plain": [
       "<Figure size 640x480 with 1 Axes>"
      ]
     },
     "metadata": {},
     "output_type": "display_data"
    },
    {
     "name": "stdout",
     "output_type": "stream",
     "text": [
      "Incorrect Sample 6: Predicted: 1, Actual: 0, Class: dog\n"
     ]
    },
    {
     "data": {
      "image/png": "[encoded data removed]",
      "text/plain": [
       "<Figure size 640x480 with 1 Axes>"
      ]
     },
     "metadata": {},
     "output_type": "display_data"
    },
    {
     "name": "stdout",
     "output_type": "stream",
     "text": [
      "Incorrect Sample 8: Predicted: 1, Actual: 0, Class: frog\n"
     ]
    },
    {
     "data": {
      "image/png": "[encoded data removed]",
      "text/plain": [
       "<Figure size 640x480 with 1 Axes>"
      ]
     },
     "metadata": {},
     "output_type": "display_data"
    },
    {
     "name": "stdout",
     "output_type": "stream",
     "text": [
      "Incorrect Sample 9: Predicted: 0, Actual: 1, Class: cat\n"
     ]
    },
    {
     "data": {
      "image/png": "[encoded data removed]",
      "text/plain": [
       "<Figure size 640x480 with 1 Axes>"
      ]
     },
     "metadata": {},
     "output_type": "display_data"
    },
    {
     "name": "stdout",
     "output_type": "stream",
     "text": [
      "Incorrect Sample 13: Predicted: 1, Actual: 0, Class: cat\n"
     ]
    },
    {
     "data": {
      "image/png": "[encoded data removed]",
      "text/plain": [
       "<Figure size 640x480 with 1 Axes>"
      ]
     },
     "metadata": {},
     "output_type": "display_data"
    },
    {
     "name": "stdout",
     "output_type": "stream",
     "text": [
      "Incorrect Sample 16: Predicted: 1, Actual: 0, Class: cat\n"
     ]
    },
    {
     "data": {
      "image/png": "[encoded data removed]",
      "text/plain": [
       "<Figure size 640x480 with 1 Axes>"
      ]
     },
     "metadata": {},
     "output_type": "display_data"
    },
    {
     "name": "stdout",
     "output_type": "stream",
     "text": [
      "Incorrect Sample 18: Predicted: 1, Actual: 0, Class: cat\n"
     ]
    },
    {
     "data": {
      "image/png": "[encoded data removed]",
      "text/plain": [
       "<Figure size 640x480 with 1 Axes>"
      ]
     },
     "metadata": {},
     "output_type": "display_data"
    },
    {
     "name": "stdout",
     "output_type": "stream",
     "text": [
      "Incorrect Sample 19: Predicted: 0, Actual: 1, Class: frog\n"
     ]
    },
    {
     "data": {
      "image/png": "[encoded data removed]",
      "text/plain": [
       "<Figure size 640x480 with 1 Axes>"
      ]
     },
     "metadata": {},
     "output_type": "display_data"
    }
   ],
   "source": [
    "def main():\n",
    "    # Initialize data loaders\n",
    "    train_loader, test_loader = prepare_datasets()\n",
    "\n",
    "    # Create the model\n",
    "    model = create_model()\n",
    "\n",
    "    # Initialize the loss function, optimizer, and learning rate scheduler\n",
    "    criterion = nn.CrossEntropyLoss()\n",
    "    optimizer = optim.Adam(model.parameters(), lr=0.001)\n",
    "    scheduler = optim.lr_scheduler.StepLR(optimizer, step_size=5, gamma=0.1)\n",
    "\n",
    "    # Train the model\n",
    "    train_model(model, train_loader, criterion, optimizer, scheduler, epochs=10)\n",
    "\n",
    "    # Evaluate the model on the test dataset\n",
    "    evaluate_model(model, test_loader, classes)\n",
    "\n",
    "if __name__ == \"__main__\":\n",
    "    main()"
   ]
  }
 ],
 "metadata": {
  "kernelspec": {
   "display_name": "Python 3",
   "language": "python",
   "name": "python3"
  },
  "language_info": {
   "codemirror_mode": {
    "name": "ipython",
    "version": 3
   },
   "file_extension": ".py",
   "mimetype": "text/x-python",
   "name": "python",
   "nbconvert_exporter": "python",
   "pygments_lexer": "ipython3",
   "version": "3.12.1"
  }
 },
 "nbformat": 4,
 "nbformat_minor": 2
}
